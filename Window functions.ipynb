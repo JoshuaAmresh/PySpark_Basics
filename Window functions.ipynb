{
 "cells": [
  {
   "cell_type": "code",
   "execution_count": 1,
   "metadata": {},
   "outputs": [],
   "source": [
    "import numpy as np\n",
    "import pandas as pd\n",
    "import matplotlib.pyplot as plt\n",
    "%matplotlib inline\n",
    "from pyspark import SparkContext\n",
    "\n",
    "try:\n",
    "    sc = SparkContext('local', 'my_context')\n",
    "except ValueError:\n",
    "    print('Spark_Context already exists!')\n",
    "\n",
    "from pyspark.sql import SparkSession\n",
    "try:\n",
    "    spark = SparkSession.builder.appName('window_functions').getOrCreate()\n",
    "except ValueError:\n",
    "    print('Spark_Session already exists!')"
   ]
  },
  {
   "cell_type": "code",
   "execution_count": 2,
   "metadata": {},
   "outputs": [],
   "source": [
    "from pyspark.sql.window import Window\n",
    "from pyspark.sql.types import DateType\n",
    "import pyspark.sql.functions as F\n",
    "from pyspark.sql.functions import rank, col"
   ]
  },
  {
   "cell_type": "code",
   "execution_count": 8,
   "metadata": {},
   "outputs": [
    {
     "name": "stdout",
     "output_type": "stream",
     "text": [
      "Wall time: 532 ms\n"
     ]
    }
   ],
   "source": [
    "%%time \n",
    "df_spark = spark.read.csv(\"db_power_consumption.csv\", header=True, inferSchema=True)"
   ]
  },
  {
   "cell_type": "code",
   "execution_count": 4,
   "metadata": {},
   "outputs": [
    {
     "name": "stdout",
     "output_type": "stream",
     "text": [
      "root\n",
      " |-- code: string (nullable = true)\n",
      " |-- area: string (nullable = true)\n",
      " |-- date: string (nullable = true)\n",
      " |-- municipality: string (nullable = true)\n",
      " |-- use: string (nullable = true)\n",
      " |-- stratum: integer (nullable = true)\n",
      " |-- consumption: double (nullable = true)\n",
      "\n"
     ]
    }
   ],
   "source": [
    "df_spark.printSchema()"
   ]
  },
  {
   "cell_type": "code",
   "execution_count": 5,
   "metadata": {},
   "outputs": [
    {
     "name": "stdout",
     "output_type": "stream",
     "text": [
      "+--------+----+----------+-------------+-----------+-------+-----------+\n",
      "|    code|area|      date| municipality|        use|stratum|consumption|\n",
      "+--------+----+----------+-------------+-----------+-------+-----------+\n",
      "|C1UPOLR2|   U|2012-01-31|    POLICARPA|Residential|      2|      1.009|\n",
      "| 8UBARE0|   U|2015-07-31|    BARBACOAS|    Special|      0|      1.412|\n",
      "| 8UROBC0|   U|2016-05-31|ROBERTO PAYAN| Commercial|      0|      2.361|\n",
      "|C0RPOLR1|   R|2014-01-31|    POLICARPA|Residential|      1|      2.502|\n",
      "|C4RLEIC0|   R|2014-08-31|        LEIVA| Commercial|      0|      3.419|\n",
      "|C0RCUMR1|   R|2014-12-31|    CUMBITARA|Residential|      1|      4.854|\n",
      "| 8UBARE0|   U|2014-12-31|    BARBACOAS|    Special|      0|      5.233|\n",
      "|C1UPOLR2|   U|2011-12-31|    POLICARPA|Residential|      2|      7.353|\n",
      "| 8UBARE0|   U|2013-10-31|    BARBACOAS|    Special|      0|      9.074|\n",
      "| 8UBARE0|   U|2014-06-30|    BARBACOAS|    Special|      0|      9.511|\n",
      "+--------+----+----------+-------------+-----------+-------+-----------+\n",
      "only showing top 10 rows\n",
      "\n"
     ]
    }
   ],
   "source": [
    "df_spark.show(10)"
   ]
  },
  {
   "cell_type": "code",
   "execution_count": 11,
   "metadata": {},
   "outputs": [
    {
     "name": "stdout",
     "output_type": "stream",
     "text": [
      "+--------+----+----------+-------------+-----------+-------+-----------+----------+\n",
      "|    code|area|      date| municipality|        use|stratum|consumption|  date_fmt|\n",
      "+--------+----+----------+-------------+-----------+-------+-----------+----------+\n",
      "|C1UPOLR2|   U|2012-01-31|    POLICARPA|Residential|      2|      1.009|2012-01-31|\n",
      "| 8UBARE0|   U|2015-07-31|    BARBACOAS|    Special|      0|      1.412|2015-07-31|\n",
      "| 8UROBC0|   U|2016-05-31|ROBERTO PAYAN| Commercial|      0|      2.361|2016-05-31|\n",
      "|C0RPOLR1|   R|2014-01-31|    POLICARPA|Residential|      1|      2.502|2014-01-31|\n",
      "|C4RLEIC0|   R|2014-08-31|        LEIVA| Commercial|      0|      3.419|2014-08-31|\n",
      "+--------+----+----------+-------------+-----------+-------+-----------+----------+\n",
      "only showing top 5 rows\n",
      "\n",
      "root\n",
      " |-- code: string (nullable = true)\n",
      " |-- area: string (nullable = true)\n",
      " |-- date: string (nullable = true)\n",
      " |-- municipality: string (nullable = true)\n",
      " |-- use: string (nullable = true)\n",
      " |-- stratum: integer (nullable = true)\n",
      " |-- consumption: double (nullable = true)\n",
      " |-- date_fmt: date (nullable = true)\n",
      "\n"
     ]
    }
   ],
   "source": [
    "df_spark.registerTempTable(\"dataframe\")\n",
    "df_spark1 = spark.sql(\"\"\"select *,to_date(date) as date_fmt from dataframe\"\"\")\n",
    "df_spark1.show(5)\n",
    "df_spark1.printSchema()"
   ]
  },
  {
   "cell_type": "markdown",
   "metadata": {},
   "source": [
    "#### For some reason, the following code doesn't convert to date format. Use the above snippet for now"
   ]
  },
  {
   "cell_type": "code",
   "execution_count": 9,
   "metadata": {},
   "outputs": [],
   "source": [
    "from pyspark.sql.functions import date_format\n",
    "df_spark1=df_spark.select(\"*\",F.to_date('date', 'dd-MM-yyyy').alias('date_fmt'))"
   ]
  },
  {
   "cell_type": "code",
   "execution_count": 10,
   "metadata": {},
   "outputs": [
    {
     "name": "stdout",
     "output_type": "stream",
     "text": [
      "+--------+----+----------+-------------+-----------+-------+-----------+--------+\n",
      "|    code|area|      date| municipality|        use|stratum|consumption|date_fmt|\n",
      "+--------+----+----------+-------------+-----------+-------+-----------+--------+\n",
      "|C1UPOLR2|   U|2012-01-31|    POLICARPA|Residential|      2|      1.009|    null|\n",
      "| 8UBARE0|   U|2015-07-31|    BARBACOAS|    Special|      0|      1.412|    null|\n",
      "| 8UROBC0|   U|2016-05-31|ROBERTO PAYAN| Commercial|      0|      2.361|    null|\n",
      "|C0RPOLR1|   R|2014-01-31|    POLICARPA|Residential|      1|      2.502|    null|\n",
      "|C4RLEIC0|   R|2014-08-31|        LEIVA| Commercial|      0|      3.419|    null|\n",
      "+--------+----+----------+-------------+-----------+-------+-----------+--------+\n",
      "only showing top 5 rows\n",
      "\n",
      "root\n",
      " |-- code: string (nullable = true)\n",
      " |-- area: string (nullable = true)\n",
      " |-- date: string (nullable = true)\n",
      " |-- municipality: string (nullable = true)\n",
      " |-- use: string (nullable = true)\n",
      " |-- stratum: integer (nullable = true)\n",
      " |-- consumption: double (nullable = true)\n",
      " |-- date_fmt: date (nullable = true)\n",
      "\n"
     ]
    }
   ],
   "source": [
    "df_spark1.show(5)\n",
    "df_spark1.printSchema()"
   ]
  },
  {
   "cell_type": "markdown",
   "metadata": {},
   "source": [
    "### Drop not required values"
   ]
  },
  {
   "cell_type": "code",
   "execution_count": 12,
   "metadata": {},
   "outputs": [],
   "source": [
    "drop_column_list = ['code', 'date','area','use','stratum']\n",
    "df_spark1 = df_spark1.select([column for column in df_spark1.columns if column not in drop_column_list])"
   ]
  },
  {
   "cell_type": "code",
   "execution_count": 13,
   "metadata": {},
   "outputs": [
    {
     "name": "stdout",
     "output_type": "stream",
     "text": [
      "+-------------+-----------+----------+\n",
      "| municipality|consumption|  date_fmt|\n",
      "+-------------+-----------+----------+\n",
      "|    POLICARPA|      1.009|2012-01-31|\n",
      "|    BARBACOAS|      1.412|2015-07-31|\n",
      "|ROBERTO PAYAN|      2.361|2016-05-31|\n",
      "|    POLICARPA|      2.502|2014-01-31|\n",
      "|        LEIVA|      3.419|2014-08-31|\n",
      "+-------------+-----------+----------+\n",
      "only showing top 5 rows\n",
      "\n"
     ]
    }
   ],
   "source": [
    "df_spark1.show(5)"
   ]
  },
  {
   "cell_type": "markdown",
   "metadata": {},
   "source": [
    "### Rearrange the columns"
   ]
  },
  {
   "cell_type": "code",
   "execution_count": 14,
   "metadata": {},
   "outputs": [],
   "source": [
    "df_spark1 = df_spark1.select(\"date_fmt\",\"municipality\",\"consumption\")"
   ]
  },
  {
   "cell_type": "code",
   "execution_count": 15,
   "metadata": {},
   "outputs": [
    {
     "name": "stdout",
     "output_type": "stream",
     "text": [
      "+----------+-------------+-----------+\n",
      "|  date_fmt| municipality|consumption|\n",
      "+----------+-------------+-----------+\n",
      "|2012-01-31|    POLICARPA|      1.009|\n",
      "|2015-07-31|    BARBACOAS|      1.412|\n",
      "|2016-05-31|ROBERTO PAYAN|      2.361|\n",
      "|2014-01-31|    POLICARPA|      2.502|\n",
      "|2014-08-31|        LEIVA|      3.419|\n",
      "+----------+-------------+-----------+\n",
      "only showing top 5 rows\n",
      "\n"
     ]
    }
   ],
   "source": [
    "df_spark1.show(5)"
   ]
  },
  {
   "cell_type": "markdown",
   "metadata": {},
   "source": [
    "### Group data by municipality, date and consumption"
   ]
  },
  {
   "cell_type": "markdown",
   "metadata": {},
   "source": [
    "#### Group and aggregate the data"
   ]
  },
  {
   "cell_type": "code",
   "execution_count": 23,
   "metadata": {},
   "outputs": [],
   "source": [
    "df_spark2=df_spark1.groupby('municipality','date_fmt').agg(F.round(F.sum('consumption'),2).alias('tot_consumption'))"
   ]
  },
  {
   "cell_type": "code",
   "execution_count": 24,
   "metadata": {},
   "outputs": [
    {
     "name": "stdout",
     "output_type": "stream",
     "text": [
      "+-------------+----------+---------------+\n",
      "| municipality|  date_fmt|tot_consumption|\n",
      "+-------------+----------+---------------+\n",
      "|   EL ROSARIO|2015-09-30|       231414.9|\n",
      "|    CUMBITARA|2012-10-31|       62700.26|\n",
      "|    CUMBITARA|2012-05-31|       42375.88|\n",
      "|   EL ROSARIO|2015-02-28|      225416.82|\n",
      "|   EL ROSARIO|2015-07-31|      233605.42|\n",
      "|    POLICARPA|2013-08-31|       233389.5|\n",
      "|        LEIVA|2012-12-31|      193576.67|\n",
      "|        LEIVA|2015-04-30|       221222.2|\n",
      "|   EL ROSARIO|2011-12-31|      214559.13|\n",
      "|        MAGUI|2013-04-30|       92288.27|\n",
      "|        LEIVA|2011-03-31|      197617.95|\n",
      "|ROBERTO PAYAN|2010-12-31|       48030.05|\n",
      "|        MAGUI|2012-11-30|       93518.12|\n",
      "|        MAGUI|2012-02-29|       72681.88|\n",
      "|   EL ROSARIO|2014-04-30|      228163.92|\n",
      "|    POLICARPA|2012-06-30|      224221.87|\n",
      "|    BARBACOAS|2015-03-31|      278410.21|\n",
      "|        MAGUI|2011-12-31|       75075.12|\n",
      "|    CUMBITARA|2012-03-31|       61464.16|\n",
      "|    CUMBITARA|2015-09-30|       38792.51|\n",
      "+-------------+----------+---------------+\n",
      "only showing top 20 rows\n",
      "\n"
     ]
    }
   ],
   "source": [
    "df_spark2.show()"
   ]
  },
  {
   "cell_type": "code",
   "execution_count": 18,
   "metadata": {},
   "outputs": [],
   "source": [
    "# create window partition\n",
    "WP = Window.partitionBy('municipality')"
   ]
  },
  {
   "cell_type": "markdown",
   "metadata": {},
   "source": [
    "### Get Top 5 rows by power consumption of each municipality"
   ]
  },
  {
   "cell_type": "code",
   "execution_count": 19,
   "metadata": {},
   "outputs": [],
   "source": [
    "n = 5\n",
    "df_spark2=df_spark2.select(F.col('*'), F.row_number().over(WP.orderBy(F.col('tot_consumption').desc())).alias('row_number')) \\\n",
    "  .where(col('row_number') <= n) \\\n",
    "  .limit(20)"
   ]
  },
  {
   "cell_type": "code",
   "execution_count": 20,
   "metadata": {},
   "outputs": [
    {
     "name": "stdout",
     "output_type": "stream",
     "text": [
      "+-------------+----------+---------------+----------+\n",
      "| municipality|  date_fmt|tot_consumption|row_number|\n",
      "+-------------+----------+---------------+----------+\n",
      "|        MAGUI|2016-04-30|       124555.9|         1|\n",
      "|        MAGUI|2015-01-31|      118490.82|         2|\n",
      "|        MAGUI|2016-05-31|      112585.51|         3|\n",
      "|        MAGUI|2014-04-30|       111919.1|         4|\n",
      "|        MAGUI|2016-01-31|      108690.42|         5|\n",
      "|   EL ROSARIO|2014-11-30|      236893.37|         1|\n",
      "|   EL ROSARIO|2016-02-29|      234581.62|         2|\n",
      "|   EL ROSARIO|2015-07-31|      233605.42|         3|\n",
      "|   EL ROSARIO|2015-04-30|      232126.16|         4|\n",
      "|   EL ROSARIO|2014-05-31|      231863.53|         5|\n",
      "|    BARBACOAS|2012-01-31|      659715.81|         1|\n",
      "|    BARBACOAS|2012-02-29|       643820.0|         2|\n",
      "|    BARBACOAS|2011-02-28|      636049.18|         3|\n",
      "|    BARBACOAS|2011-01-31|      629347.44|         4|\n",
      "|    BARBACOAS|2011-11-30|      627496.59|         5|\n",
      "|ROBERTO PAYAN|2012-11-30|      109917.41|         1|\n",
      "|ROBERTO PAYAN|2013-01-31|      109397.37|         2|\n",
      "|ROBERTO PAYAN|2016-04-30|      109099.33|         3|\n",
      "|ROBERTO PAYAN|2012-10-31|       108113.9|         4|\n",
      "|ROBERTO PAYAN|2014-11-30|      107009.66|         5|\n",
      "+-------------+----------+---------------+----------+\n",
      "\n"
     ]
    }
   ],
   "source": [
    "df_spark2.show()"
   ]
  },
  {
   "cell_type": "markdown",
   "metadata": {},
   "source": [
    "### Rank by total consumption (Highest to lowest)"
   ]
  },
  {
   "cell_type": "code",
   "execution_count": 21,
   "metadata": {},
   "outputs": [
    {
     "name": "stdout",
     "output_type": "stream",
     "text": [
      "+-------------+----------+---------------+----------+--------------------+\n",
      "| municipality|  date_fmt|tot_consumption|row_number|tot_consumption_rank|\n",
      "+-------------+----------+---------------+----------+--------------------+\n",
      "|    BARBACOAS|2012-01-31|      659715.81|         1|                   1|\n",
      "|    BARBACOAS|2012-02-29|       643820.0|         2|                   2|\n",
      "|    BARBACOAS|2011-02-28|      636049.18|         3|                   3|\n",
      "|    BARBACOAS|2011-01-31|      629347.44|         4|                   4|\n",
      "|    BARBACOAS|2011-11-30|      627496.59|         5|                   5|\n",
      "|   EL ROSARIO|2014-11-30|      236893.37|         1|                   1|\n",
      "|   EL ROSARIO|2016-02-29|      234581.62|         2|                   2|\n",
      "|   EL ROSARIO|2015-07-31|      233605.42|         3|                   3|\n",
      "|   EL ROSARIO|2015-04-30|      232126.16|         4|                   4|\n",
      "|   EL ROSARIO|2014-05-31|      231863.53|         5|                   5|\n",
      "|        MAGUI|2016-04-30|       124555.9|         1|                   1|\n",
      "|        MAGUI|2015-01-31|      118490.82|         2|                   2|\n",
      "|        MAGUI|2016-05-31|      112585.51|         3|                   3|\n",
      "|        MAGUI|2014-04-30|       111919.1|         4|                   4|\n",
      "|        MAGUI|2016-01-31|      108690.42|         5|                   5|\n",
      "|ROBERTO PAYAN|2012-11-30|      109917.41|         1|                   1|\n",
      "|ROBERTO PAYAN|2013-01-31|      109397.37|         2|                   2|\n",
      "|ROBERTO PAYAN|2016-04-30|      109099.33|         3|                   3|\n",
      "|ROBERTO PAYAN|2012-10-31|       108113.9|         4|                   4|\n",
      "|ROBERTO PAYAN|2014-11-30|      107009.66|         5|                   5|\n",
      "+-------------+----------+---------------+----------+--------------------+\n",
      "\n"
     ]
    }
   ],
   "source": [
    "df_spark2.withColumn('tot_consumption_rank',F.rank().over(WP.orderBy(F.col('tot_consumption').desc()))).show(20)"
   ]
  },
  {
   "cell_type": "markdown",
   "metadata": {},
   "source": [
    "### Dense rank by total consumption"
   ]
  },
  {
   "cell_type": "code",
   "execution_count": 22,
   "metadata": {},
   "outputs": [
    {
     "name": "stdout",
     "output_type": "stream",
     "text": [
      "+-------------+----------+---------------+----------+--------------------+\n",
      "| municipality|  date_fmt|tot_consumption|row_number|tot_consumption_rank|\n",
      "+-------------+----------+---------------+----------+--------------------+\n",
      "|    BARBACOAS|2012-01-31|      659715.81|         1|                   1|\n",
      "|    BARBACOAS|2012-02-29|       643820.0|         2|                   2|\n",
      "|    BARBACOAS|2011-02-28|      636049.18|         3|                   3|\n",
      "|    BARBACOAS|2011-01-31|      629347.44|         4|                   4|\n",
      "|    BARBACOAS|2011-11-30|      627496.59|         5|                   5|\n",
      "|   EL ROSARIO|2014-11-30|      236893.37|         1|                   1|\n",
      "|   EL ROSARIO|2016-02-29|      234581.62|         2|                   2|\n",
      "|   EL ROSARIO|2015-07-31|      233605.42|         3|                   3|\n",
      "|   EL ROSARIO|2015-04-30|      232126.16|         4|                   4|\n",
      "|   EL ROSARIO|2014-05-31|      231863.53|         5|                   5|\n",
      "|        MAGUI|2016-04-30|       124555.9|         1|                   1|\n",
      "|        MAGUI|2015-01-31|      118490.82|         2|                   2|\n",
      "|        MAGUI|2016-05-31|      112585.51|         3|                   3|\n",
      "|        MAGUI|2014-04-30|       111919.1|         4|                   4|\n",
      "|        MAGUI|2016-01-31|      108690.42|         5|                   5|\n",
      "|ROBERTO PAYAN|2012-11-30|      109917.41|         1|                   1|\n",
      "|ROBERTO PAYAN|2013-01-31|      109397.37|         2|                   2|\n",
      "|ROBERTO PAYAN|2016-04-30|      109099.33|         3|                   3|\n",
      "|ROBERTO PAYAN|2012-10-31|       108113.9|         4|                   4|\n",
      "|ROBERTO PAYAN|2014-11-30|      107009.66|         5|                   5|\n",
      "+-------------+----------+---------------+----------+--------------------+\n",
      "\n"
     ]
    }
   ],
   "source": [
    "df_spark2.withColumn('tot_consumption_rank',F.dense_rank().over(WP.orderBy(F.col('tot_consumption').desc()))).show(20)"
   ]
  },
  {
   "cell_type": "markdown",
   "metadata": {},
   "source": [
    "### NTile by total consumption"
   ]
  },
  {
   "cell_type": "code",
   "execution_count": 26,
   "metadata": {},
   "outputs": [
    {
     "name": "stdout",
     "output_type": "stream",
     "text": [
      "+------------+----------+---------------+----------------------+\n",
      "|municipality|  date_fmt|tot_consumption|tot_consumption_bucket|\n",
      "+------------+----------+---------------+----------------------+\n",
      "|       MAGUI|2016-04-30|       124555.9|                     1|\n",
      "|       MAGUI|2015-01-31|      118490.82|                     1|\n",
      "|       MAGUI|2016-05-31|      112585.51|                     1|\n",
      "|       MAGUI|2014-04-30|       111919.1|                     1|\n",
      "|       MAGUI|2016-01-31|      108690.42|                     1|\n",
      "|       MAGUI|2014-12-31|      105525.45|                     1|\n",
      "|       MAGUI|2014-11-30|      105206.87|                     1|\n",
      "|       MAGUI|2013-01-31|      102780.78|                     2|\n",
      "|       MAGUI|2014-01-31|      101169.26|                     2|\n",
      "|       MAGUI|2014-09-30|       98895.35|                     2|\n",
      "|       MAGUI|2014-10-31|       98130.11|                     2|\n",
      "|       MAGUI|2016-03-31|       96010.68|                     2|\n",
      "|       MAGUI|2012-11-30|       93518.12|                     2|\n",
      "|       MAGUI|2015-11-30|       92761.25|                     2|\n",
      "|       MAGUI|2013-04-30|       92288.27|                     3|\n",
      "|       MAGUI|2014-08-31|       91831.19|                     3|\n",
      "|       MAGUI|2016-02-29|       91397.92|                     3|\n",
      "|       MAGUI|2014-06-30|        91196.4|                     3|\n",
      "|       MAGUI|2013-02-28|       91108.96|                     3|\n",
      "|       MAGUI|2012-10-31|       89079.63|                     3|\n",
      "+------------+----------+---------------+----------------------+\n",
      "only showing top 20 rows\n",
      "\n"
     ]
    }
   ],
   "source": [
    "## creates 10 buckets using ntile on municipality by total consumption\n",
    "df_spark2.withColumn('tot_consumption_bucket',F.ntile(10).over(WP.orderBy(F.col('tot_consumption').desc()))).show()"
   ]
  },
  {
   "cell_type": "markdown",
   "metadata": {},
   "source": [
    "### Percent Rank"
   ]
  },
  {
   "cell_type": "code",
   "execution_count": 27,
   "metadata": {},
   "outputs": [
    {
     "name": "stdout",
     "output_type": "stream",
     "text": [
      "+------------+----------+---------------+-----------------------------------+\n",
      "|municipality|  date_fmt|tot_consumption|tot_consumption_bucket_percent_rant|\n",
      "+------------+----------+---------------+-----------------------------------+\n",
      "|       MAGUI|2016-04-30|       124555.9|                                0.0|\n",
      "|       MAGUI|2015-01-31|      118490.82|               0.015384615384615385|\n",
      "|       MAGUI|2016-05-31|      112585.51|                0.03076923076923077|\n",
      "|       MAGUI|2014-04-30|       111919.1|               0.046153846153846156|\n",
      "|       MAGUI|2016-01-31|      108690.42|                0.06153846153846154|\n",
      "|       MAGUI|2014-12-31|      105525.45|                0.07692307692307693|\n",
      "|       MAGUI|2014-11-30|      105206.87|                0.09230769230769231|\n",
      "|       MAGUI|2013-01-31|      102780.78|                 0.1076923076923077|\n",
      "|       MAGUI|2014-01-31|      101169.26|                0.12307692307692308|\n",
      "|       MAGUI|2014-09-30|       98895.35|                0.13846153846153847|\n",
      "|       MAGUI|2014-10-31|       98130.11|                0.15384615384615385|\n",
      "|       MAGUI|2016-03-31|       96010.68|                0.16923076923076924|\n",
      "|       MAGUI|2012-11-30|       93518.12|                0.18461538461538463|\n",
      "|       MAGUI|2015-11-30|       92761.25|                                0.2|\n",
      "|       MAGUI|2013-04-30|       92288.27|                 0.2153846153846154|\n",
      "|       MAGUI|2014-08-31|       91831.19|                0.23076923076923078|\n",
      "|       MAGUI|2016-02-29|       91397.92|                0.24615384615384617|\n",
      "|       MAGUI|2014-06-30|        91196.4|                0.26153846153846155|\n",
      "|       MAGUI|2013-02-28|       91108.96|                0.27692307692307694|\n",
      "|       MAGUI|2012-10-31|       89079.63|                 0.2923076923076923|\n",
      "+------------+----------+---------------+-----------------------------------+\n",
      "only showing top 20 rows\n",
      "\n"
     ]
    }
   ],
   "source": [
    "df_spark2.withColumn('tot_consumption_bucket_percent_rant',F.percent_rank().over(WP.orderBy(F.col('tot_consumption').desc()))).show()"
   ]
  },
  {
   "cell_type": "markdown",
   "metadata": {},
   "source": [
    "### Moving average and running sum - total consumption"
   ]
  },
  {
   "cell_type": "code",
   "execution_count": 28,
   "metadata": {},
   "outputs": [
    {
     "name": "stdout",
     "output_type": "stream",
     "text": [
      "+------------+----------+---------------+-----------------------+\n",
      "|municipality|  date_fmt|tot_consumption|mov_avg_tot_consumption|\n",
      "+------------+----------+---------------+-----------------------+\n",
      "|       MAGUI|2010-12-31|       44328.21|               44328.21|\n",
      "|       MAGUI|2011-01-31|       49912.92|               47120.57|\n",
      "|       MAGUI|2011-02-28|       57197.63|               50479.59|\n",
      "|       MAGUI|2011-03-31|       47008.81|               49611.89|\n",
      "|       MAGUI|2011-04-30|        48695.6|               49428.63|\n",
      "|       MAGUI|2011-05-31|       46675.22|               48969.73|\n",
      "|       MAGUI|2011-06-30|       57055.37|               50124.82|\n",
      "|       MAGUI|2011-07-31|       58957.25|               51228.88|\n",
      "|       MAGUI|2011-08-31|       73748.56|               53731.06|\n",
      "|       MAGUI|2011-09-30|       64655.32|               54823.49|\n",
      "|       MAGUI|2011-10-31|        63876.4|               55646.48|\n",
      "|       MAGUI|2011-11-30|       80375.26|               57707.21|\n",
      "|       MAGUI|2011-12-31|       75075.12|               59043.21|\n",
      "|       MAGUI|2012-01-31|       86589.64|               61010.81|\n",
      "|       MAGUI|2012-02-29|       72681.88|               61788.88|\n",
      "|       MAGUI|2012-03-31|       67038.81|                62117.0|\n",
      "|       MAGUI|2012-04-30|       79947.52|               63165.85|\n",
      "|       MAGUI|2012-05-31|       76445.23|                63903.6|\n",
      "|       MAGUI|2012-06-30|        75486.5|               64513.22|\n",
      "|       MAGUI|2012-07-31|       66647.26|               64619.93|\n",
      "+------------+----------+---------------+-----------------------+\n",
      "only showing top 20 rows\n",
      "\n"
     ]
    }
   ],
   "source": [
    "df_spark2.withColumn('mov_avg_tot_consumption',F.round(F.avg('tot_consumption').over(WP.orderBy(F.col('date_fmt'))),2)).show()"
   ]
  },
  {
   "cell_type": "code",
   "execution_count": 29,
   "metadata": {},
   "outputs": [
    {
     "name": "stdout",
     "output_type": "stream",
     "text": [
      "+------------+----------+---------------+----------+\n",
      "|municipality|  date_fmt|tot_consumption|   run_sum|\n",
      "+------------+----------+---------------+----------+\n",
      "|       MAGUI|2010-12-31|       44328.21|  44328.21|\n",
      "|       MAGUI|2011-01-31|       49912.92|  94241.13|\n",
      "|       MAGUI|2011-02-28|       57197.63| 151438.76|\n",
      "|       MAGUI|2011-03-31|       47008.81| 198447.57|\n",
      "|       MAGUI|2011-04-30|        48695.6| 247143.17|\n",
      "|       MAGUI|2011-05-31|       46675.22| 293818.39|\n",
      "|       MAGUI|2011-06-30|       57055.37| 350873.76|\n",
      "|       MAGUI|2011-07-31|       58957.25| 409831.01|\n",
      "|       MAGUI|2011-08-31|       73748.56| 483579.57|\n",
      "|       MAGUI|2011-09-30|       64655.32| 548234.89|\n",
      "|       MAGUI|2011-10-31|        63876.4| 612111.29|\n",
      "|       MAGUI|2011-11-30|       80375.26| 692486.55|\n",
      "|       MAGUI|2011-12-31|       75075.12| 767561.67|\n",
      "|       MAGUI|2012-01-31|       86589.64| 854151.31|\n",
      "|       MAGUI|2012-02-29|       72681.88| 926833.19|\n",
      "|       MAGUI|2012-03-31|       67038.81|  993872.0|\n",
      "|       MAGUI|2012-04-30|       79947.52|1073819.52|\n",
      "|       MAGUI|2012-05-31|       76445.23|1150264.75|\n",
      "|       MAGUI|2012-06-30|        75486.5|1225751.25|\n",
      "|       MAGUI|2012-07-31|       66647.26|1292398.51|\n",
      "+------------+----------+---------------+----------+\n",
      "only showing top 20 rows\n",
      "\n"
     ]
    }
   ],
   "source": [
    "df_spark2.withColumn('run_sum',F.round(F.sum('tot_consumption').over(WP.orderBy(F.col('date_fmt'))),2)).show()"
   ]
  },
  {
   "cell_type": "markdown",
   "metadata": {},
   "source": [
    "### Get days from previous reading by each municipality"
   ]
  },
  {
   "cell_type": "code",
   "execution_count": 30,
   "metadata": {},
   "outputs": [
    {
     "name": "stdout",
     "output_type": "stream",
     "text": [
      "+------------+----------+---------------+--------------------------+\n",
      "|municipality|  date_fmt|tot_consumption|days_from_last_consumption|\n",
      "+------------+----------+---------------+--------------------------+\n",
      "|       MAGUI|2010-12-31|       44328.21|                      null|\n",
      "|       MAGUI|2011-01-31|       49912.92|                        31|\n",
      "|       MAGUI|2011-02-28|       57197.63|                        28|\n",
      "|       MAGUI|2011-03-31|       47008.81|                        31|\n",
      "|       MAGUI|2011-04-30|        48695.6|                        30|\n",
      "|       MAGUI|2011-05-31|       46675.22|                        31|\n",
      "|       MAGUI|2011-06-30|       57055.37|                        30|\n",
      "|       MAGUI|2011-07-31|       58957.25|                        31|\n",
      "|       MAGUI|2011-08-31|       73748.56|                        31|\n",
      "|       MAGUI|2011-09-30|       64655.32|                        30|\n",
      "|       MAGUI|2011-10-31|        63876.4|                        31|\n",
      "|       MAGUI|2011-11-30|       80375.26|                        30|\n",
      "|       MAGUI|2011-12-31|       75075.12|                        31|\n",
      "|       MAGUI|2012-01-31|       86589.64|                        31|\n",
      "|       MAGUI|2012-02-29|       72681.88|                        29|\n",
      "|       MAGUI|2012-03-31|       67038.81|                        31|\n",
      "|       MAGUI|2012-04-30|       79947.52|                        30|\n",
      "|       MAGUI|2012-05-31|       76445.23|                        31|\n",
      "|       MAGUI|2012-06-30|        75486.5|                        30|\n",
      "|       MAGUI|2012-07-31|       66647.26|                        31|\n",
      "+------------+----------+---------------+--------------------------+\n",
      "only showing top 20 rows\n",
      "\n"
     ]
    }
   ],
   "source": [
    "df_spark2.withColumn('days_from_last_consumption', F.datediff('date_fmt',F.lag('date_fmt',1).over(WP.orderBy(F.col('date_fmt'))))).show()  "
   ]
  },
  {
   "cell_type": "markdown",
   "metadata": {},
   "source": [
    "### Get days for next reading by each municipality"
   ]
  },
  {
   "cell_type": "code",
   "execution_count": 31,
   "metadata": {},
   "outputs": [
    {
     "name": "stdout",
     "output_type": "stream",
     "text": [
      "+------------+----------+---------------+----------------------------+\n",
      "|municipality|  date_fmt|tot_consumption|days_before_next_consumption|\n",
      "+------------+----------+---------------+----------------------------+\n",
      "|       MAGUI|2010-12-31|       44328.21|                          31|\n",
      "|       MAGUI|2011-01-31|       49912.92|                          28|\n",
      "|       MAGUI|2011-02-28|       57197.63|                          31|\n",
      "|       MAGUI|2011-03-31|       47008.81|                          30|\n",
      "|       MAGUI|2011-04-30|        48695.6|                          31|\n",
      "|       MAGUI|2011-05-31|       46675.22|                          30|\n",
      "|       MAGUI|2011-06-30|       57055.37|                          31|\n",
      "|       MAGUI|2011-07-31|       58957.25|                          31|\n",
      "|       MAGUI|2011-08-31|       73748.56|                          30|\n",
      "|       MAGUI|2011-09-30|       64655.32|                          31|\n",
      "|       MAGUI|2011-10-31|        63876.4|                          30|\n",
      "|       MAGUI|2011-11-30|       80375.26|                          31|\n",
      "|       MAGUI|2011-12-31|       75075.12|                          31|\n",
      "|       MAGUI|2012-01-31|       86589.64|                          29|\n",
      "|       MAGUI|2012-02-29|       72681.88|                          31|\n",
      "|       MAGUI|2012-03-31|       67038.81|                          30|\n",
      "|       MAGUI|2012-04-30|       79947.52|                          31|\n",
      "|       MAGUI|2012-05-31|       76445.23|                          30|\n",
      "|       MAGUI|2012-06-30|        75486.5|                          31|\n",
      "|       MAGUI|2012-07-31|       66647.26|                          31|\n",
      "+------------+----------+---------------+----------------------------+\n",
      "only showing top 20 rows\n",
      "\n"
     ]
    }
   ],
   "source": [
    "df_spark2.withColumn('days_before_next_consumption', F.datediff(F.lead('date_fmt',1).over(WP.orderBy(F.col('date_fmt'))),'date_fmt')).show()"
   ]
  },
  {
   "cell_type": "code",
   "execution_count": null,
   "metadata": {},
   "outputs": [],
   "source": []
  }
 ],
 "metadata": {
  "kernelspec": {
   "display_name": "Python 3 (ipykernel)",
   "language": "python",
   "name": "python3"
  },
  "language_info": {
   "codemirror_mode": {
    "name": "ipython",
    "version": 3
   },
   "file_extension": ".py",
   "mimetype": "text/x-python",
   "name": "python",
   "nbconvert_exporter": "python",
   "pygments_lexer": "ipython3",
   "version": "3.9.7"
  }
 },
 "nbformat": 4,
 "nbformat_minor": 2
}
